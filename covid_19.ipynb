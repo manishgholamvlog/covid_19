{
  "nbformat": 4,
  "nbformat_minor": 0,
  "metadata": {
    "colab": {
      "name": "covid_19.ipynb",
      "provenance": []
    },
    "kernelspec": {
      "name": "python3",
      "display_name": "Python 3"
    }
  },
  "cells": [
    {
      "cell_type": "code",
      "metadata": {
        "id": "hbtffv7uA5TP"
      },
      "source": [
        "import warnings\r\n",
        "warnings.filterwarnings('ignore')"
      ],
      "execution_count": 144,
      "outputs": []
    },
    {
      "cell_type": "code",
      "metadata": {
        "id": "mgdkucSoDrac"
      },
      "source": [
        "import numpy as np\r\n",
        "import pandas as pd\r\n",
        "import matplotlib.pyplot as plt\r\n",
        "import seaborn as sns"
      ],
      "execution_count": 145,
      "outputs": []
    },
    {
      "cell_type": "code",
      "metadata": {
        "id": "HN4UbSU0Dvl5"
      },
      "source": [
        "df1 = pd.read_csv(\"covid_19_india.csv\")\r\n",
        "df2 = pd.read_csv(\"HospitalBedsIndia.csv\")\r\n",
        "df3 = pd.read_csv(\"ICMRTestingDetails.csv\")\r\n",
        "df4 = pd.read_csv(\"ICMRTestingLabs.csv\")\r\n",
        "df5 = pd.read_csv(\"IndividualDetails.csv\")\r\n",
        "df6 = pd.read_csv(\"population_india_census2011.csv\")\r\n",
        "df7= pd.read_csv(\"AgeGroupDetails.csv\")"
      ],
      "execution_count": 146,
      "outputs": []
    },
    {
      "cell_type": "code",
      "metadata": {
        "colab": {
          "base_uri": "https://localhost:8080/",
          "height": 204
        },
        "id": "bKWMfQdRE-ML",
        "outputId": "2aa93c74-9836-4196-9d0e-2e4dbeefc4f1"
      },
      "source": [
        "df1.head()"
      ],
      "execution_count": 147,
      "outputs": [
        {
          "output_type": "execute_result",
          "data": {
            "text/html": [
              "<div>\n",
              "<style scoped>\n",
              "    .dataframe tbody tr th:only-of-type {\n",
              "        vertical-align: middle;\n",
              "    }\n",
              "\n",
              "    .dataframe tbody tr th {\n",
              "        vertical-align: top;\n",
              "    }\n",
              "\n",
              "    .dataframe thead th {\n",
              "        text-align: right;\n",
              "    }\n",
              "</style>\n",
              "<table border=\"1\" class=\"dataframe\">\n",
              "  <thead>\n",
              "    <tr style=\"text-align: right;\">\n",
              "      <th></th>\n",
              "      <th>Sno</th>\n",
              "      <th>Date</th>\n",
              "      <th>Time</th>\n",
              "      <th>State/UnionTerritory</th>\n",
              "      <th>ConfirmedIndianNational</th>\n",
              "      <th>ConfirmedForeignNational</th>\n",
              "      <th>Cured</th>\n",
              "      <th>Deaths</th>\n",
              "      <th>Confirmed</th>\n",
              "    </tr>\n",
              "  </thead>\n",
              "  <tbody>\n",
              "    <tr>\n",
              "      <th>0</th>\n",
              "      <td>1.0</td>\n",
              "      <td>30/01/20</td>\n",
              "      <td>6:00 PM</td>\n",
              "      <td>Kerala</td>\n",
              "      <td>1</td>\n",
              "      <td>0</td>\n",
              "      <td>0.0</td>\n",
              "      <td>0.0</td>\n",
              "      <td>1.0</td>\n",
              "    </tr>\n",
              "    <tr>\n",
              "      <th>1</th>\n",
              "      <td>2.0</td>\n",
              "      <td>31/01/20</td>\n",
              "      <td>6:00 PM</td>\n",
              "      <td>Kerala</td>\n",
              "      <td>1</td>\n",
              "      <td>0</td>\n",
              "      <td>0.0</td>\n",
              "      <td>0.0</td>\n",
              "      <td>1.0</td>\n",
              "    </tr>\n",
              "    <tr>\n",
              "      <th>2</th>\n",
              "      <td>3.0</td>\n",
              "      <td>01/02/20</td>\n",
              "      <td>6:00 PM</td>\n",
              "      <td>Kerala</td>\n",
              "      <td>2</td>\n",
              "      <td>0</td>\n",
              "      <td>0.0</td>\n",
              "      <td>0.0</td>\n",
              "      <td>2.0</td>\n",
              "    </tr>\n",
              "    <tr>\n",
              "      <th>3</th>\n",
              "      <td>4.0</td>\n",
              "      <td>02/02/20</td>\n",
              "      <td>6:00 PM</td>\n",
              "      <td>Kerala</td>\n",
              "      <td>3</td>\n",
              "      <td>0</td>\n",
              "      <td>0.0</td>\n",
              "      <td>0.0</td>\n",
              "      <td>3.0</td>\n",
              "    </tr>\n",
              "    <tr>\n",
              "      <th>4</th>\n",
              "      <td>5.0</td>\n",
              "      <td>03/02/20</td>\n",
              "      <td>6:00 PM</td>\n",
              "      <td>Kerala</td>\n",
              "      <td>3</td>\n",
              "      <td>0</td>\n",
              "      <td>0.0</td>\n",
              "      <td>0.0</td>\n",
              "      <td>3.0</td>\n",
              "    </tr>\n",
              "  </tbody>\n",
              "</table>\n",
              "</div>"
            ],
            "text/plain": [
              "   Sno      Date     Time  ... Cured Deaths Confirmed\n",
              "0  1.0  30/01/20  6:00 PM  ...   0.0    0.0       1.0\n",
              "1  2.0  31/01/20  6:00 PM  ...   0.0    0.0       1.0\n",
              "2  3.0  01/02/20  6:00 PM  ...   0.0    0.0       2.0\n",
              "3  4.0  02/02/20  6:00 PM  ...   0.0    0.0       3.0\n",
              "4  5.0  03/02/20  6:00 PM  ...   0.0    0.0       3.0\n",
              "\n",
              "[5 rows x 9 columns]"
            ]
          },
          "metadata": {
            "tags": []
          },
          "execution_count": 147
        }
      ]
    },
    {
      "cell_type": "code",
      "metadata": {
        "colab": {
          "base_uri": "https://localhost:8080/",
          "height": 309
        },
        "id": "YJzYWkAIFRYR",
        "outputId": "ba75b643-e7ed-42f8-d377-188d0510ae49"
      },
      "source": [
        "df2.head()"
      ],
      "execution_count": 148,
      "outputs": [
        {
          "output_type": "execute_result",
          "data": {
            "text/html": [
              "<div>\n",
              "<style scoped>\n",
              "    .dataframe tbody tr th:only-of-type {\n",
              "        vertical-align: middle;\n",
              "    }\n",
              "\n",
              "    .dataframe tbody tr th {\n",
              "        vertical-align: top;\n",
              "    }\n",
              "\n",
              "    .dataframe thead th {\n",
              "        text-align: right;\n",
              "    }\n",
              "</style>\n",
              "<table border=\"1\" class=\"dataframe\">\n",
              "  <thead>\n",
              "    <tr style=\"text-align: right;\">\n",
              "      <th></th>\n",
              "      <th>Sno</th>\n",
              "      <th>State/UT</th>\n",
              "      <th>NumPrimaryHealthCenters_HMIS</th>\n",
              "      <th>NumCommunityHealthCenters_HMIS</th>\n",
              "      <th>NumSubDistrictHospitals_HMIS</th>\n",
              "      <th>NumDistrictHospitals_HMIS</th>\n",
              "      <th>TotalPublicHealthFacilities_HMIS</th>\n",
              "      <th>NumPublicBeds_HMIS</th>\n",
              "      <th>NumRuralHospitals_NHP18</th>\n",
              "      <th>NumRuralBeds_NHP18</th>\n",
              "      <th>NumUrbanHospitals_NHP18</th>\n",
              "      <th>NumUrbanBeds_NHP18</th>\n",
              "      <th>Unnamed: 12</th>\n",
              "      <th>Unnamed: 13</th>\n",
              "    </tr>\n",
              "  </thead>\n",
              "  <tbody>\n",
              "    <tr>\n",
              "      <th>0</th>\n",
              "      <td>1.0</td>\n",
              "      <td>Andaman &amp; Nicobar Islands</td>\n",
              "      <td>27</td>\n",
              "      <td>4</td>\n",
              "      <td>NaN</td>\n",
              "      <td>3</td>\n",
              "      <td>34</td>\n",
              "      <td>1246</td>\n",
              "      <td>27.0</td>\n",
              "      <td>575.0</td>\n",
              "      <td>3.0</td>\n",
              "      <td>500.0</td>\n",
              "      <td>NaN</td>\n",
              "      <td>NaN</td>\n",
              "    </tr>\n",
              "    <tr>\n",
              "      <th>1</th>\n",
              "      <td>2.0</td>\n",
              "      <td>Andhra Pradesh</td>\n",
              "      <td>1417</td>\n",
              "      <td>198</td>\n",
              "      <td>31</td>\n",
              "      <td>20</td>\n",
              "      <td>1666</td>\n",
              "      <td>60799</td>\n",
              "      <td>193.0</td>\n",
              "      <td>6480.0</td>\n",
              "      <td>65.0</td>\n",
              "      <td>16658.0</td>\n",
              "      <td>NaN</td>\n",
              "      <td>NaN</td>\n",
              "    </tr>\n",
              "    <tr>\n",
              "      <th>2</th>\n",
              "      <td>3.0</td>\n",
              "      <td>Arunachal Pradesh</td>\n",
              "      <td>122</td>\n",
              "      <td>62</td>\n",
              "      <td>NaN</td>\n",
              "      <td>15</td>\n",
              "      <td>199</td>\n",
              "      <td>2320</td>\n",
              "      <td>208.0</td>\n",
              "      <td>2136.0</td>\n",
              "      <td>10.0</td>\n",
              "      <td>268.0</td>\n",
              "      <td>NaN</td>\n",
              "      <td>NaN</td>\n",
              "    </tr>\n",
              "    <tr>\n",
              "      <th>3</th>\n",
              "      <td>4.0</td>\n",
              "      <td>Assam</td>\n",
              "      <td>1007</td>\n",
              "      <td>166</td>\n",
              "      <td>14</td>\n",
              "      <td>33</td>\n",
              "      <td>1220</td>\n",
              "      <td>19115</td>\n",
              "      <td>1176.0</td>\n",
              "      <td>10944.0</td>\n",
              "      <td>50.0</td>\n",
              "      <td>6198.0</td>\n",
              "      <td>NaN</td>\n",
              "      <td>NaN</td>\n",
              "    </tr>\n",
              "    <tr>\n",
              "      <th>4</th>\n",
              "      <td>5.0</td>\n",
              "      <td>Bihar</td>\n",
              "      <td>2007</td>\n",
              "      <td>63</td>\n",
              "      <td>33</td>\n",
              "      <td>43</td>\n",
              "      <td>2146</td>\n",
              "      <td>17796</td>\n",
              "      <td>930.0</td>\n",
              "      <td>6083.0</td>\n",
              "      <td>103.0</td>\n",
              "      <td>5936.0</td>\n",
              "      <td>NaN</td>\n",
              "      <td>NaN</td>\n",
              "    </tr>\n",
              "  </tbody>\n",
              "</table>\n",
              "</div>"
            ],
            "text/plain": [
              "   Sno                   State/UT  ... Unnamed: 12 Unnamed: 13\n",
              "0  1.0  Andaman & Nicobar Islands  ...         NaN         NaN\n",
              "1  2.0             Andhra Pradesh  ...         NaN         NaN\n",
              "2  3.0          Arunachal Pradesh  ...         NaN         NaN\n",
              "3  4.0                      Assam  ...         NaN         NaN\n",
              "4  5.0                      Bihar  ...         NaN         NaN\n",
              "\n",
              "[5 rows x 14 columns]"
            ]
          },
          "metadata": {
            "tags": []
          },
          "execution_count": 148
        }
      ]
    },
    {
      "cell_type": "code",
      "metadata": {
        "colab": {
          "base_uri": "https://localhost:8080/",
          "height": 204
        },
        "id": "aOXOcbpbFWj-",
        "outputId": "5b3b84ef-feb7-43e0-ad9e-50a91c5614c6"
      },
      "source": [
        "df3.head()"
      ],
      "execution_count": 149,
      "outputs": [
        {
          "output_type": "execute_result",
          "data": {
            "text/html": [
              "<div>\n",
              "<style scoped>\n",
              "    .dataframe tbody tr th:only-of-type {\n",
              "        vertical-align: middle;\n",
              "    }\n",
              "\n",
              "    .dataframe tbody tr th {\n",
              "        vertical-align: top;\n",
              "    }\n",
              "\n",
              "    .dataframe thead th {\n",
              "        text-align: right;\n",
              "    }\n",
              "</style>\n",
              "<table border=\"1\" class=\"dataframe\">\n",
              "  <thead>\n",
              "    <tr style=\"text-align: right;\">\n",
              "      <th></th>\n",
              "      <th>SNo</th>\n",
              "      <th>DateTime</th>\n",
              "      <th>TotalSamplesTested</th>\n",
              "      <th>TotalIndividualsTested</th>\n",
              "      <th>TotalPositiveCases</th>\n",
              "      <th>Source</th>\n",
              "    </tr>\n",
              "  </thead>\n",
              "  <tbody>\n",
              "    <tr>\n",
              "      <th>0</th>\n",
              "      <td>1</td>\n",
              "      <td>13/03/20 18:00</td>\n",
              "      <td>6500.0</td>\n",
              "      <td>5900.0</td>\n",
              "      <td>78.0</td>\n",
              "      <td>Press_Release_ICMR_13March2020.pdf</td>\n",
              "    </tr>\n",
              "    <tr>\n",
              "      <th>1</th>\n",
              "      <td>2</td>\n",
              "      <td>18/03/20 18:00</td>\n",
              "      <td>13125.0</td>\n",
              "      <td>12235.0</td>\n",
              "      <td>150.0</td>\n",
              "      <td>ICMR_website_update_18March_6PM_IST.pdf</td>\n",
              "    </tr>\n",
              "    <tr>\n",
              "      <th>2</th>\n",
              "      <td>3</td>\n",
              "      <td>19/03/20 18:00</td>\n",
              "      <td>14175.0</td>\n",
              "      <td>13285.0</td>\n",
              "      <td>182.0</td>\n",
              "      <td>ICMR_website_update_19March_6PM_IST.pdf</td>\n",
              "    </tr>\n",
              "    <tr>\n",
              "      <th>3</th>\n",
              "      <td>4</td>\n",
              "      <td>20/03/20 18:00</td>\n",
              "      <td>15404.0</td>\n",
              "      <td>14514.0</td>\n",
              "      <td>236.0</td>\n",
              "      <td>ICMR_website_update_20March_6PM_IST.pdf</td>\n",
              "    </tr>\n",
              "    <tr>\n",
              "      <th>4</th>\n",
              "      <td>5</td>\n",
              "      <td>21/03/20 18:00</td>\n",
              "      <td>16911.0</td>\n",
              "      <td>16021.0</td>\n",
              "      <td>315.0</td>\n",
              "      <td>ICMR_website_update_21March_6PM_IST.pdf</td>\n",
              "    </tr>\n",
              "  </tbody>\n",
              "</table>\n",
              "</div>"
            ],
            "text/plain": [
              "   SNo  ...                                   Source\n",
              "0    1  ...       Press_Release_ICMR_13March2020.pdf\n",
              "1    2  ...  ICMR_website_update_18March_6PM_IST.pdf\n",
              "2    3  ...  ICMR_website_update_19March_6PM_IST.pdf\n",
              "3    4  ...  ICMR_website_update_20March_6PM_IST.pdf\n",
              "4    5  ...  ICMR_website_update_21March_6PM_IST.pdf\n",
              "\n",
              "[5 rows x 6 columns]"
            ]
          },
          "metadata": {
            "tags": []
          },
          "execution_count": 149
        }
      ]
    },
    {
      "cell_type": "code",
      "metadata": {
        "colab": {
          "base_uri": "https://localhost:8080/",
          "height": 289
        },
        "id": "Q4pDKMGwFff4",
        "outputId": "b3f75e17-721d-4915-e3cf-21beb5bf0487"
      },
      "source": [
        "df4.head()"
      ],
      "execution_count": 150,
      "outputs": [
        {
          "output_type": "execute_result",
          "data": {
            "text/html": [
              "<div>\n",
              "<style scoped>\n",
              "    .dataframe tbody tr th:only-of-type {\n",
              "        vertical-align: middle;\n",
              "    }\n",
              "\n",
              "    .dataframe tbody tr th {\n",
              "        vertical-align: top;\n",
              "    }\n",
              "\n",
              "    .dataframe thead th {\n",
              "        text-align: right;\n",
              "    }\n",
              "</style>\n",
              "<table border=\"1\" class=\"dataframe\">\n",
              "  <thead>\n",
              "    <tr style=\"text-align: right;\">\n",
              "      <th></th>\n",
              "      <th>lab</th>\n",
              "      <th>address</th>\n",
              "      <th>pincode</th>\n",
              "      <th>city</th>\n",
              "      <th>state</th>\n",
              "      <th>type</th>\n",
              "    </tr>\n",
              "  </thead>\n",
              "  <tbody>\n",
              "    <tr>\n",
              "      <th>0</th>\n",
              "      <td>ICMR-Regional Medical Research Centre, Port Blair</td>\n",
              "      <td>ICMR-Regional Medical Research Centre, Post Ba...</td>\n",
              "      <td>744103</td>\n",
              "      <td>Port Blair</td>\n",
              "      <td>Andaman and Nicobar Islands</td>\n",
              "      <td>Government Laboratory Supported</td>\n",
              "    </tr>\n",
              "    <tr>\n",
              "      <th>1</th>\n",
              "      <td>Tomo Riba Institute of Health &amp; Medical Scienc...</td>\n",
              "      <td>National Highway 52A, Old Assembly Complex, Na...</td>\n",
              "      <td>791110</td>\n",
              "      <td>Naharlagun</td>\n",
              "      <td>Arunachal Pradesh</td>\n",
              "      <td>Collection Site</td>\n",
              "    </tr>\n",
              "    <tr>\n",
              "      <th>2</th>\n",
              "      <td>Sri Venkateswara Institute of Medical Sciences...</td>\n",
              "      <td>Sri Venkateswara Institute of Medical Sciences...</td>\n",
              "      <td>517507</td>\n",
              "      <td>Tirupati</td>\n",
              "      <td>Andhra Pradesh</td>\n",
              "      <td>Government Laboratory Supported</td>\n",
              "    </tr>\n",
              "    <tr>\n",
              "      <th>3</th>\n",
              "      <td>Rangaraya Medical College, Kakinada</td>\n",
              "      <td>Rangaraya Medical College, Kakinada Pithampura...</td>\n",
              "      <td>533001</td>\n",
              "      <td>Kakinada</td>\n",
              "      <td>Andhra Pradesh</td>\n",
              "      <td>Government Laboratory Supported</td>\n",
              "    </tr>\n",
              "    <tr>\n",
              "      <th>4</th>\n",
              "      <td>Sidhartha Medical College, Vijaywada</td>\n",
              "      <td>Siddhartha Medical College, Vijayawada NH 16 S...</td>\n",
              "      <td>520008</td>\n",
              "      <td>Vijayawada</td>\n",
              "      <td>Andhra Pradesh</td>\n",
              "      <td>Government Laboratory Supported</td>\n",
              "    </tr>\n",
              "  </tbody>\n",
              "</table>\n",
              "</div>"
            ],
            "text/plain": [
              "                                                 lab  ...                             type\n",
              "0  ICMR-Regional Medical Research Centre, Port Blair  ...  Government Laboratory Supported\n",
              "1  Tomo Riba Institute of Health & Medical Scienc...  ...                  Collection Site\n",
              "2  Sri Venkateswara Institute of Medical Sciences...  ...  Government Laboratory Supported\n",
              "3                Rangaraya Medical College, Kakinada  ...  Government Laboratory Supported\n",
              "4               Sidhartha Medical College, Vijaywada  ...  Government Laboratory Supported\n",
              "\n",
              "[5 rows x 6 columns]"
            ]
          },
          "metadata": {
            "tags": []
          },
          "execution_count": 150
        }
      ]
    },
    {
      "cell_type": "code",
      "metadata": {
        "colab": {
          "base_uri": "https://localhost:8080/",
          "height": 442
        },
        "id": "D-tryNvhFfpX",
        "outputId": "510d0007-2af8-47d5-f5ef-b24381430aaf"
      },
      "source": [
        "df5.head()"
      ],
      "execution_count": 151,
      "outputs": [
        {
          "output_type": "execute_result",
          "data": {
            "text/html": [
              "<div>\n",
              "<style scoped>\n",
              "    .dataframe tbody tr th:only-of-type {\n",
              "        vertical-align: middle;\n",
              "    }\n",
              "\n",
              "    .dataframe tbody tr th {\n",
              "        vertical-align: top;\n",
              "    }\n",
              "\n",
              "    .dataframe thead th {\n",
              "        text-align: right;\n",
              "    }\n",
              "</style>\n",
              "<table border=\"1\" class=\"dataframe\">\n",
              "  <thead>\n",
              "    <tr style=\"text-align: right;\">\n",
              "      <th></th>\n",
              "      <th>id</th>\n",
              "      <th>government_id</th>\n",
              "      <th>diagnosed_date</th>\n",
              "      <th>age</th>\n",
              "      <th>gender</th>\n",
              "      <th>detected_city</th>\n",
              "      <th>detected_district</th>\n",
              "      <th>detected_state</th>\n",
              "      <th>nationality</th>\n",
              "      <th>current_status</th>\n",
              "      <th>status_change_date</th>\n",
              "      <th>notes</th>\n",
              "    </tr>\n",
              "  </thead>\n",
              "  <tbody>\n",
              "    <tr>\n",
              "      <th>0</th>\n",
              "      <td>0</td>\n",
              "      <td>KL-TS-P1</td>\n",
              "      <td>30/01/2020</td>\n",
              "      <td>20</td>\n",
              "      <td>F</td>\n",
              "      <td>Thrissur</td>\n",
              "      <td>Thrissur</td>\n",
              "      <td>Kerala</td>\n",
              "      <td>India</td>\n",
              "      <td>Recovered</td>\n",
              "      <td>14/02/2020</td>\n",
              "      <td>Travelled from Wuhan</td>\n",
              "    </tr>\n",
              "    <tr>\n",
              "      <th>1</th>\n",
              "      <td>1</td>\n",
              "      <td>KL-AL-P1</td>\n",
              "      <td>02/02/2020</td>\n",
              "      <td>NaN</td>\n",
              "      <td>NaN</td>\n",
              "      <td>Alappuzha</td>\n",
              "      <td>Alappuzha</td>\n",
              "      <td>Kerala</td>\n",
              "      <td>India</td>\n",
              "      <td>Recovered</td>\n",
              "      <td>14/02/2020</td>\n",
              "      <td>Travelled from Wuhan</td>\n",
              "    </tr>\n",
              "    <tr>\n",
              "      <th>2</th>\n",
              "      <td>2</td>\n",
              "      <td>KL-KS-P1</td>\n",
              "      <td>03/02/2020</td>\n",
              "      <td>NaN</td>\n",
              "      <td>NaN</td>\n",
              "      <td>Kasaragod</td>\n",
              "      <td>Kasaragod</td>\n",
              "      <td>Kerala</td>\n",
              "      <td>India</td>\n",
              "      <td>Recovered</td>\n",
              "      <td>14/02/2020</td>\n",
              "      <td>Travelled from Wuhan</td>\n",
              "    </tr>\n",
              "    <tr>\n",
              "      <th>3</th>\n",
              "      <td>3</td>\n",
              "      <td>DL-P1</td>\n",
              "      <td>02/03/2020</td>\n",
              "      <td>45</td>\n",
              "      <td>M</td>\n",
              "      <td>East Delhi (Mayur Vihar)</td>\n",
              "      <td>East Delhi</td>\n",
              "      <td>Delhi</td>\n",
              "      <td>India</td>\n",
              "      <td>Recovered</td>\n",
              "      <td>15/03/2020</td>\n",
              "      <td>Travelled from Austria, Italy</td>\n",
              "    </tr>\n",
              "    <tr>\n",
              "      <th>4</th>\n",
              "      <td>4</td>\n",
              "      <td>TS-P1</td>\n",
              "      <td>02/03/2020</td>\n",
              "      <td>24</td>\n",
              "      <td>M</td>\n",
              "      <td>Hyderabad</td>\n",
              "      <td>Hyderabad</td>\n",
              "      <td>Telangana</td>\n",
              "      <td>India</td>\n",
              "      <td>Recovered</td>\n",
              "      <td>02/03/2020</td>\n",
              "      <td>Travelled from Dubai to Bangalore on 20th Feb,...</td>\n",
              "    </tr>\n",
              "  </tbody>\n",
              "</table>\n",
              "</div>"
            ],
            "text/plain": [
              "   id  ...                                              notes\n",
              "0   0  ...                               Travelled from Wuhan\n",
              "1   1  ...                               Travelled from Wuhan\n",
              "2   2  ...                               Travelled from Wuhan\n",
              "3   3  ...                      Travelled from Austria, Italy\n",
              "4   4  ...  Travelled from Dubai to Bangalore on 20th Feb,...\n",
              "\n",
              "[5 rows x 12 columns]"
            ]
          },
          "metadata": {
            "tags": []
          },
          "execution_count": 151
        }
      ]
    },
    {
      "cell_type": "code",
      "metadata": {
        "colab": {
          "base_uri": "https://localhost:8080/",
          "height": 204
        },
        "id": "m5BXakyUFonh",
        "outputId": "97f0d0eb-3ccb-43ee-aee7-861ed544554c"
      },
      "source": [
        "df6.head()"
      ],
      "execution_count": 152,
      "outputs": [
        {
          "output_type": "execute_result",
          "data": {
            "text/html": [
              "<div>\n",
              "<style scoped>\n",
              "    .dataframe tbody tr th:only-of-type {\n",
              "        vertical-align: middle;\n",
              "    }\n",
              "\n",
              "    .dataframe tbody tr th {\n",
              "        vertical-align: top;\n",
              "    }\n",
              "\n",
              "    .dataframe thead th {\n",
              "        text-align: right;\n",
              "    }\n",
              "</style>\n",
              "<table border=\"1\" class=\"dataframe\">\n",
              "  <thead>\n",
              "    <tr style=\"text-align: right;\">\n",
              "      <th></th>\n",
              "      <th>Sno</th>\n",
              "      <th>State / Union Territory</th>\n",
              "      <th>Population</th>\n",
              "      <th>Rural population</th>\n",
              "      <th>Urban population</th>\n",
              "      <th>Area</th>\n",
              "      <th>Density</th>\n",
              "      <th>Gender Ratio</th>\n",
              "    </tr>\n",
              "  </thead>\n",
              "  <tbody>\n",
              "    <tr>\n",
              "      <th>0</th>\n",
              "      <td>1</td>\n",
              "      <td>Uttar Pradesh</td>\n",
              "      <td>199812341</td>\n",
              "      <td>155317278</td>\n",
              "      <td>44495063</td>\n",
              "      <td>240,928 km2 (93,023 sq mi)</td>\n",
              "      <td>828/km2 (2,140/sq mi)</td>\n",
              "      <td>912</td>\n",
              "    </tr>\n",
              "    <tr>\n",
              "      <th>1</th>\n",
              "      <td>2</td>\n",
              "      <td>Maharashtra</td>\n",
              "      <td>112374333</td>\n",
              "      <td>61556074</td>\n",
              "      <td>50818259</td>\n",
              "      <td>307,713 km2 (118,809 sq mi)</td>\n",
              "      <td>365/km2 (950/sq mi)</td>\n",
              "      <td>929</td>\n",
              "    </tr>\n",
              "    <tr>\n",
              "      <th>2</th>\n",
              "      <td>3</td>\n",
              "      <td>Bihar</td>\n",
              "      <td>104099452</td>\n",
              "      <td>92341436</td>\n",
              "      <td>11758016</td>\n",
              "      <td>94,163 km2 (36,357 sq mi)</td>\n",
              "      <td>1,102/km2 (2,850/sq mi)</td>\n",
              "      <td>918</td>\n",
              "    </tr>\n",
              "    <tr>\n",
              "      <th>3</th>\n",
              "      <td>4</td>\n",
              "      <td>West Bengal</td>\n",
              "      <td>91276115</td>\n",
              "      <td>62183113</td>\n",
              "      <td>29093002</td>\n",
              "      <td>88,752 km2 (34,267 sq mi)</td>\n",
              "      <td>1,029/km2 (2,670/sq mi)</td>\n",
              "      <td>953</td>\n",
              "    </tr>\n",
              "    <tr>\n",
              "      <th>4</th>\n",
              "      <td>5</td>\n",
              "      <td>Madhya Pradesh</td>\n",
              "      <td>72626809</td>\n",
              "      <td>52557404</td>\n",
              "      <td>20069405</td>\n",
              "      <td>308,245 km2 (119,014 sq mi)</td>\n",
              "      <td>236/km2 (610/sq mi)</td>\n",
              "      <td>931</td>\n",
              "    </tr>\n",
              "  </tbody>\n",
              "</table>\n",
              "</div>"
            ],
            "text/plain": [
              "   Sno State / Union Territory  ...                  Density  Gender Ratio\n",
              "0    1           Uttar Pradesh  ...    828/km2 (2,140/sq mi)           912\n",
              "1    2             Maharashtra  ...      365/km2 (950/sq mi)           929\n",
              "2    3                   Bihar  ...  1,102/km2 (2,850/sq mi)           918\n",
              "3    4             West Bengal  ...  1,029/km2 (2,670/sq mi)           953\n",
              "4    5          Madhya Pradesh  ...      236/km2 (610/sq mi)           931\n",
              "\n",
              "[5 rows x 8 columns]"
            ]
          },
          "metadata": {
            "tags": []
          },
          "execution_count": 152
        }
      ]
    },
    {
      "cell_type": "code",
      "metadata": {
        "colab": {
          "base_uri": "https://localhost:8080/",
          "height": 204
        },
        "id": "u1FhUBwcFsxG",
        "outputId": "f15975ab-1b77-4d4f-89fd-36513dce2f03"
      },
      "source": [
        "df7.head()"
      ],
      "execution_count": 153,
      "outputs": [
        {
          "output_type": "execute_result",
          "data": {
            "text/html": [
              "<div>\n",
              "<style scoped>\n",
              "    .dataframe tbody tr th:only-of-type {\n",
              "        vertical-align: middle;\n",
              "    }\n",
              "\n",
              "    .dataframe tbody tr th {\n",
              "        vertical-align: top;\n",
              "    }\n",
              "\n",
              "    .dataframe thead th {\n",
              "        text-align: right;\n",
              "    }\n",
              "</style>\n",
              "<table border=\"1\" class=\"dataframe\">\n",
              "  <thead>\n",
              "    <tr style=\"text-align: right;\">\n",
              "      <th></th>\n",
              "      <th>Sno</th>\n",
              "      <th>AgeGroup</th>\n",
              "      <th>TotalCases</th>\n",
              "      <th>Percentage</th>\n",
              "    </tr>\n",
              "  </thead>\n",
              "  <tbody>\n",
              "    <tr>\n",
              "      <th>0</th>\n",
              "      <td>1</td>\n",
              "      <td>0-9</td>\n",
              "      <td>22</td>\n",
              "      <td>3.18%</td>\n",
              "    </tr>\n",
              "    <tr>\n",
              "      <th>1</th>\n",
              "      <td>2</td>\n",
              "      <td>10-19</td>\n",
              "      <td>27</td>\n",
              "      <td>3.90%</td>\n",
              "    </tr>\n",
              "    <tr>\n",
              "      <th>2</th>\n",
              "      <td>3</td>\n",
              "      <td>20-29</td>\n",
              "      <td>172</td>\n",
              "      <td>24.86%</td>\n",
              "    </tr>\n",
              "    <tr>\n",
              "      <th>3</th>\n",
              "      <td>4</td>\n",
              "      <td>30-39</td>\n",
              "      <td>146</td>\n",
              "      <td>21.10%</td>\n",
              "    </tr>\n",
              "    <tr>\n",
              "      <th>4</th>\n",
              "      <td>5</td>\n",
              "      <td>40-49</td>\n",
              "      <td>112</td>\n",
              "      <td>16.18%</td>\n",
              "    </tr>\n",
              "  </tbody>\n",
              "</table>\n",
              "</div>"
            ],
            "text/plain": [
              "   Sno AgeGroup  TotalCases Percentage\n",
              "0    1      0-9          22      3.18%\n",
              "1    2    10-19          27      3.90%\n",
              "2    3    20-29         172     24.86%\n",
              "3    4    30-39         146     21.10%\n",
              "4    5    40-49         112     16.18%"
            ]
          },
          "metadata": {
            "tags": []
          },
          "execution_count": 153
        }
      ]
    },
    {
      "cell_type": "code",
      "metadata": {
        "colab": {
          "base_uri": "https://localhost:8080/"
        },
        "id": "2Bz4bimpU90F",
        "outputId": "38df6822-4049-46f7-c156-171a604d0748"
      },
      "source": [
        "#Check for missing values\r\n",
        "df1.shape"
      ],
      "execution_count": 154,
      "outputs": [
        {
          "output_type": "execute_result",
          "data": {
            "text/plain": [
              "(806, 9)"
            ]
          },
          "metadata": {
            "tags": []
          },
          "execution_count": 154
        }
      ]
    },
    {
      "cell_type": "code",
      "metadata": {
        "colab": {
          "base_uri": "https://localhost:8080/"
        },
        "id": "BYpGLV2wVAPr",
        "outputId": "c1b16eca-3a67-4d4b-ca70-6ec25a6e7fb3"
      },
      "source": [
        "df1.info()"
      ],
      "execution_count": 155,
      "outputs": [
        {
          "output_type": "stream",
          "text": [
            "<class 'pandas.core.frame.DataFrame'>\n",
            "RangeIndex: 806 entries, 0 to 805\n",
            "Data columns (total 9 columns):\n",
            " #   Column                    Non-Null Count  Dtype  \n",
            "---  ------                    --------------  -----  \n",
            " 0   Sno                       801 non-null    float64\n",
            " 1   Date                      801 non-null    object \n",
            " 2   Time                      801 non-null    object \n",
            " 3   State/UnionTerritory      801 non-null    object \n",
            " 4   ConfirmedIndianNational   801 non-null    object \n",
            " 5   ConfirmedForeignNational  801 non-null    object \n",
            " 6   Cured                     801 non-null    float64\n",
            " 7   Deaths                    801 non-null    float64\n",
            " 8   Confirmed                 801 non-null    float64\n",
            "dtypes: float64(4), object(5)\n",
            "memory usage: 56.8+ KB\n"
          ],
          "name": "stdout"
        }
      ]
    },
    {
      "cell_type": "code",
      "metadata": {
        "colab": {
          "base_uri": "https://localhost:8080/"
        },
        "id": "2yzdKaYBWhBZ",
        "outputId": "6bd10082-6f7e-4667-b2d7-87fe5d7a4609"
      },
      "source": [
        "df1[\"ConfirmedIndianNational\"].unique()"
      ],
      "execution_count": 156,
      "outputs": [
        {
          "output_type": "execute_result",
          "data": {
            "text/plain": [
              "array(['1', '2', '3', '0', '6', '7', '8', '9', '4', '15', '5', '17', '10',\n",
              "       '11', '19', '14', '22', '32', '12', '23', '24', '36', '25', '39',\n",
              "       '44', '18', '16', '26', '49', '33', '60', '13', '28', '45', '64',\n",
              "       '21', '29', '71', '30', '37', '87', '86', '41', '101', '125', '34',\n",
              "       '35', '42', '55', '110', '20', '121', '40', '129', '127', '38',\n",
              "       '168', '177', '52', '46', '54', '-', nan], dtype=object)"
            ]
          },
          "metadata": {
            "tags": []
          },
          "execution_count": 156
        }
      ]
    },
    {
      "cell_type": "code",
      "metadata": {
        "colab": {
          "base_uri": "https://localhost:8080/"
        },
        "id": "osVCwhSjc5nc",
        "outputId": "3fd0e5a7-7728-4261-96b8-b4d7cf6868af"
      },
      "source": [
        "df1[\"ConfirmedForeignNational\"].unique()"
      ],
      "execution_count": 157,
      "outputs": [
        {
          "output_type": "execute_result",
          "data": {
            "text/plain": [
              "array(['0', '1', '2', '14', '3', '9', '7', '11', '10', '8', '6', '-', nan],\n",
              "      dtype=object)"
            ]
          },
          "metadata": {
            "tags": []
          },
          "execution_count": 157
        }
      ]
    },
    {
      "cell_type": "code",
      "metadata": {
        "colab": {
          "base_uri": "https://localhost:8080/"
        },
        "id": "g9am3mttYe3d",
        "outputId": "2b6782bb-c076-4e42-dca1-1f44b22c868d"
      },
      "source": [
        "df1['ConfirmedIndianNational'].value_counts()"
      ],
      "execution_count": 158,
      "outputs": [
        {
          "output_type": "execute_result",
          "data": {
            "text/plain": [
              "-      355\n",
              "1      108\n",
              "3       73\n",
              "2       33\n",
              "4       21\n",
              "      ... \n",
              "129      1\n",
              "49       1\n",
              "101      1\n",
              "41       1\n",
              "125      1\n",
              "Name: ConfirmedIndianNational, Length: 62, dtype: int64"
            ]
          },
          "metadata": {
            "tags": []
          },
          "execution_count": 158
        }
      ]
    },
    {
      "cell_type": "code",
      "metadata": {
        "id": "4H93TBU1Y-i3"
      },
      "source": [
        "df1['ConfirmedIndianNational'].replace(\"-\", np.nan, inplace=True)"
      ],
      "execution_count": 159,
      "outputs": []
    },
    {
      "cell_type": "code",
      "metadata": {
        "id": "wbuHpCvgdHc2"
      },
      "source": [
        "df1['ConfirmedForeignNational'].replace(\"-\", np.nan, inplace=True)"
      ],
      "execution_count": 160,
      "outputs": []
    },
    {
      "cell_type": "code",
      "metadata": {
        "colab": {
          "base_uri": "https://localhost:8080/"
        },
        "id": "F5j6ScFXZaA0",
        "outputId": "35572532-ffc1-4a2a-a71e-2ea963b90df1"
      },
      "source": [
        "df1['ConfirmedIndianNational'].unique()"
      ],
      "execution_count": 161,
      "outputs": [
        {
          "output_type": "execute_result",
          "data": {
            "text/plain": [
              "array(['1', '2', '3', '0', '6', '7', '8', '9', '4', '15', '5', '17', '10',\n",
              "       '11', '19', '14', '22', '32', '12', '23', '24', '36', '25', '39',\n",
              "       '44', '18', '16', '26', '49', '33', '60', '13', '28', '45', '64',\n",
              "       '21', '29', '71', '30', '37', '87', '86', '41', '101', '125', '34',\n",
              "       '35', '42', '55', '110', '20', '121', '40', '129', '127', '38',\n",
              "       '168', '177', '52', '46', '54', nan], dtype=object)"
            ]
          },
          "metadata": {
            "tags": []
          },
          "execution_count": 161
        }
      ]
    },
    {
      "cell_type": "code",
      "metadata": {
        "colab": {
          "base_uri": "https://localhost:8080/"
        },
        "id": "Vt4bf-VPdldO",
        "outputId": "bb18cfd7-a79d-4693-d0ca-8d01fc492396"
      },
      "source": [
        "df1['ConfirmedForeignNational'].unique()"
      ],
      "execution_count": 162,
      "outputs": [
        {
          "output_type": "execute_result",
          "data": {
            "text/plain": [
              "array(['0', '1', '2', '14', '3', '9', '7', '11', '10', '8', '6', nan],\n",
              "      dtype=object)"
            ]
          },
          "metadata": {
            "tags": []
          },
          "execution_count": 162
        }
      ]
    },
    {
      "cell_type": "code",
      "metadata": {
        "id": "dwO4YmTnZ0lp"
      },
      "source": [
        "df1['ConfirmedIndianNational'] = df1['ConfirmedIndianNational'].astype(float)"
      ],
      "execution_count": 163,
      "outputs": []
    },
    {
      "cell_type": "code",
      "metadata": {
        "id": "xTLts2oXd3b1"
      },
      "source": [
        "df1['ConfirmedForeignNational'] = df1['ConfirmedForeignNational'].astype(float)"
      ],
      "execution_count": 164,
      "outputs": []
    },
    {
      "cell_type": "code",
      "metadata": {
        "colab": {
          "base_uri": "https://localhost:8080/"
        },
        "id": "rVwnYCIDZo9q",
        "outputId": "1ffe4a7b-1a25-4be2-eeaa-bb4933f4dc7a"
      },
      "source": [
        "df1.info()"
      ],
      "execution_count": 191,
      "outputs": [
        {
          "output_type": "stream",
          "text": [
            "<class 'pandas.core.frame.DataFrame'>\n",
            "RangeIndex: 806 entries, 0 to 805\n",
            "Data columns (total 6 columns):\n",
            " #   Column                    Non-Null Count  Dtype  \n",
            "---  ------                    --------------  -----  \n",
            " 0   State/UnionTerritory      801 non-null    object \n",
            " 1   ConfirmedIndianNational   806 non-null    float64\n",
            " 2   ConfirmedForeignNational  806 non-null    float64\n",
            " 3   Cured                     801 non-null    float64\n",
            " 4   Deaths                    801 non-null    float64\n",
            " 5   Confirmed                 801 non-null    float64\n",
            "dtypes: float64(5), object(1)\n",
            "memory usage: 37.9+ KB\n"
          ],
          "name": "stdout"
        }
      ]
    },
    {
      "cell_type": "code",
      "metadata": {
        "colab": {
          "base_uri": "https://localhost:8080/"
        },
        "id": "tYh_0uVdbi8k",
        "outputId": "03407143-d42a-4675-c1ff-3f5b0c724a19"
      },
      "source": [
        "df1[\"ConfirmedIndianNational\"].mean()"
      ],
      "execution_count": 166,
      "outputs": [
        {
          "output_type": "execute_result",
          "data": {
            "text/plain": [
              "12.188340807174887"
            ]
          },
          "metadata": {
            "tags": []
          },
          "execution_count": 166
        }
      ]
    },
    {
      "cell_type": "code",
      "metadata": {
        "colab": {
          "base_uri": "https://localhost:8080/"
        },
        "id": "IFxaYKkzeMLq",
        "outputId": "8f372bf5-86c1-4b10-9244-bb63e4559461"
      },
      "source": [
        "df1[\"ConfirmedForeignNational\"].mean()"
      ],
      "execution_count": 167,
      "outputs": [
        {
          "output_type": "execute_result",
          "data": {
            "text/plain": [
              "1.4955156950672646"
            ]
          },
          "metadata": {
            "tags": []
          },
          "execution_count": 167
        }
      ]
    },
    {
      "cell_type": "code",
      "metadata": {
        "colab": {
          "base_uri": "https://localhost:8080/"
        },
        "id": "skEgAhkNbobI",
        "outputId": "7c54cb7b-1fa1-4df1-c3e9-324335b0b312"
      },
      "source": [
        "df1[\"ConfirmedIndianNational\"].median()"
      ],
      "execution_count": 168,
      "outputs": [
        {
          "output_type": "execute_result",
          "data": {
            "text/plain": [
              "3.0"
            ]
          },
          "metadata": {
            "tags": []
          },
          "execution_count": 168
        }
      ]
    },
    {
      "cell_type": "code",
      "metadata": {
        "colab": {
          "base_uri": "https://localhost:8080/"
        },
        "id": "T21S9Y-XeUC7",
        "outputId": "ad3ef17d-c489-4230-971d-41214279245e"
      },
      "source": [
        "df1[\"ConfirmedForeignNational\"].median()"
      ],
      "execution_count": 169,
      "outputs": [
        {
          "output_type": "execute_result",
          "data": {
            "text/plain": [
              "0.0"
            ]
          },
          "metadata": {
            "tags": []
          },
          "execution_count": 169
        }
      ]
    },
    {
      "cell_type": "code",
      "metadata": {
        "id": "aHFNBG69b-wH"
      },
      "source": [
        "df1['ConfirmedIndianNational'].fillna(df1[\"ConfirmedIndianNational\"].median(), inplace=True)"
      ],
      "execution_count": 170,
      "outputs": []
    },
    {
      "cell_type": "code",
      "metadata": {
        "id": "w-NcBtPReobq"
      },
      "source": [
        "df1['ConfirmedForeignNational'].fillna(df1[\"ConfirmedForeignNational\"].mean(), inplace=True)"
      ],
      "execution_count": 171,
      "outputs": []
    },
    {
      "cell_type": "code",
      "metadata": {
        "colab": {
          "base_uri": "https://localhost:8080/"
        },
        "id": "gHNfMh4gcUVW",
        "outputId": "499c3795-fb7b-4021-a5dd-321211d0503e"
      },
      "source": [
        "df1['ConfirmedIndianNational'].unique()"
      ],
      "execution_count": 172,
      "outputs": [
        {
          "output_type": "execute_result",
          "data": {
            "text/plain": [
              "array([  1.,   2.,   3.,   0.,   6.,   7.,   8.,   9.,   4.,  15.,   5.,\n",
              "        17.,  10.,  11.,  19.,  14.,  22.,  32.,  12.,  23.,  24.,  36.,\n",
              "        25.,  39.,  44.,  18.,  16.,  26.,  49.,  33.,  60.,  13.,  28.,\n",
              "        45.,  64.,  21.,  29.,  71.,  30.,  37.,  87.,  86.,  41., 101.,\n",
              "       125.,  34.,  35.,  42.,  55., 110.,  20., 121.,  40., 129., 127.,\n",
              "        38., 168., 177.,  52.,  46.,  54.])"
            ]
          },
          "metadata": {
            "tags": []
          },
          "execution_count": 172
        }
      ]
    },
    {
      "cell_type": "code",
      "metadata": {
        "colab": {
          "base_uri": "https://localhost:8080/"
        },
        "id": "u89sTr-je9RL",
        "outputId": "c55f0ffd-691b-419a-f8ce-b86a8c28b253"
      },
      "source": [
        "df1['ConfirmedForeignNational'].unique()"
      ],
      "execution_count": 173,
      "outputs": [
        {
          "output_type": "execute_result",
          "data": {
            "text/plain": [
              "array([ 0.       ,  1.       ,  2.       , 14.       ,  3.       ,\n",
              "        9.       ,  7.       , 11.       , 10.       ,  8.       ,\n",
              "        6.       ,  1.4955157])"
            ]
          },
          "metadata": {
            "tags": []
          },
          "execution_count": 173
        }
      ]
    },
    {
      "cell_type": "code",
      "metadata": {
        "id": "uSDt_9Nkg9bJ"
      },
      "source": [
        "df1.drop(['Sno','Date','Time'],axis=1,inplace=True)"
      ],
      "execution_count": 174,
      "outputs": []
    },
    {
      "cell_type": "code",
      "metadata": {
        "colab": {
          "base_uri": "https://localhost:8080/",
          "height": 204
        },
        "id": "esX-b6GxhnSm",
        "outputId": "89c6adc2-1666-4f31-c729-a8de17f50a13"
      },
      "source": [
        "df1.head()"
      ],
      "execution_count": 196,
      "outputs": [
        {
          "output_type": "execute_result",
          "data": {
            "text/html": [
              "<div>\n",
              "<style scoped>\n",
              "    .dataframe tbody tr th:only-of-type {\n",
              "        vertical-align: middle;\n",
              "    }\n",
              "\n",
              "    .dataframe tbody tr th {\n",
              "        vertical-align: top;\n",
              "    }\n",
              "\n",
              "    .dataframe thead th {\n",
              "        text-align: right;\n",
              "    }\n",
              "</style>\n",
              "<table border=\"1\" class=\"dataframe\">\n",
              "  <thead>\n",
              "    <tr style=\"text-align: right;\">\n",
              "      <th></th>\n",
              "      <th>State/UnionTerritory</th>\n",
              "      <th>ConfirmedIndianNational</th>\n",
              "      <th>ConfirmedForeignNational</th>\n",
              "      <th>Cured</th>\n",
              "      <th>Deaths</th>\n",
              "      <th>Confirmed</th>\n",
              "    </tr>\n",
              "  </thead>\n",
              "  <tbody>\n",
              "    <tr>\n",
              "      <th>0</th>\n",
              "      <td>Kerala</td>\n",
              "      <td>1.0</td>\n",
              "      <td>0.0</td>\n",
              "      <td>0.0</td>\n",
              "      <td>0.0</td>\n",
              "      <td>1.0</td>\n",
              "    </tr>\n",
              "    <tr>\n",
              "      <th>1</th>\n",
              "      <td>Kerala</td>\n",
              "      <td>1.0</td>\n",
              "      <td>0.0</td>\n",
              "      <td>0.0</td>\n",
              "      <td>0.0</td>\n",
              "      <td>1.0</td>\n",
              "    </tr>\n",
              "    <tr>\n",
              "      <th>2</th>\n",
              "      <td>Kerala</td>\n",
              "      <td>2.0</td>\n",
              "      <td>0.0</td>\n",
              "      <td>0.0</td>\n",
              "      <td>0.0</td>\n",
              "      <td>2.0</td>\n",
              "    </tr>\n",
              "    <tr>\n",
              "      <th>3</th>\n",
              "      <td>Kerala</td>\n",
              "      <td>3.0</td>\n",
              "      <td>0.0</td>\n",
              "      <td>0.0</td>\n",
              "      <td>0.0</td>\n",
              "      <td>3.0</td>\n",
              "    </tr>\n",
              "    <tr>\n",
              "      <th>4</th>\n",
              "      <td>Kerala</td>\n",
              "      <td>3.0</td>\n",
              "      <td>0.0</td>\n",
              "      <td>0.0</td>\n",
              "      <td>0.0</td>\n",
              "      <td>3.0</td>\n",
              "    </tr>\n",
              "  </tbody>\n",
              "</table>\n",
              "</div>"
            ],
            "text/plain": [
              "  State/UnionTerritory  ConfirmedIndianNational  ...  Deaths  Confirmed\n",
              "0               Kerala                      1.0  ...     0.0        1.0\n",
              "1               Kerala                      1.0  ...     0.0        1.0\n",
              "2               Kerala                      2.0  ...     0.0        2.0\n",
              "3               Kerala                      3.0  ...     0.0        3.0\n",
              "4               Kerala                      3.0  ...     0.0        3.0\n",
              "\n",
              "[5 rows x 6 columns]"
            ]
          },
          "metadata": {
            "tags": []
          },
          "execution_count": 196
        }
      ]
    },
    {
      "cell_type": "code",
      "metadata": {
        "colab": {
          "base_uri": "https://localhost:8080/"
        },
        "id": "Ew6prN1LiilK",
        "outputId": "41704f61-fd6a-4660-8842-a79ddd3298e1"
      },
      "source": [
        "df1['State/UnionTerritory'].unique()"
      ],
      "execution_count": 177,
      "outputs": [
        {
          "output_type": "execute_result",
          "data": {
            "text/plain": [
              "array(['Kerala', 'Telengana', 'Delhi', 'Rajasthan', 'Uttar Pradesh',\n",
              "       'Haryana', 'Ladakh', 'Tamil Nadu', 'Karnataka', 'Maharashtra',\n",
              "       'Punjab', 'Jammu and Kashmir', 'Andhra Pradesh', 'Uttarakhand',\n",
              "       'Odisha', 'Puducherry', 'West Bengal', 'Chhattisgarh',\n",
              "       'Chandigarh', 'Gujarat', 'Himachal Pradesh', 'Madhya Pradesh',\n",
              "       'Bihar', 'Manipur', 'Mizoram', 'Andaman and Nicobar Islands',\n",
              "       'Goa', 'Unassigned', 'Assam', 'Jharkhand', 'Arunachal Pradesh',\n",
              "       'Tripura', nan], dtype=object)"
            ]
          },
          "metadata": {
            "tags": []
          },
          "execution_count": 177
        }
      ]
    },
    {
      "cell_type": "code",
      "metadata": {
        "colab": {
          "base_uri": "https://localhost:8080/"
        },
        "id": "Dc4beLinjV6T",
        "outputId": "3733a2cf-f619-4abf-eba5-d1d97100de7b"
      },
      "source": [
        "df1['State/UnionTerritory'].value_counts()"
      ],
      "execution_count": 204,
      "outputs": [
        {
          "output_type": "execute_result",
          "data": {
            "text/plain": [
              "Kerala                         76\n",
              "Delhi                          39\n",
              "Telengana                      39\n",
              "Rajasthan                      38\n",
              "Uttar Pradesh                  37\n",
              "Haryana                        37\n",
              "Tamil Nadu                     34\n",
              "Ladakh                         34\n",
              "Maharashtra                    32\n",
              "Karnataka                      32\n",
              "Jammu and Kashmir              32\n",
              "Punjab                         32\n",
              "Andhra Pradesh                 29\n",
              "Uttarakhand                    26\n",
              "Odisha                         25\n",
              "Puducherry                     23\n",
              "West Bengal                    23\n",
              "Chhattisgarh                   22\n",
              "Chandigarh                     22\n",
              "Gujarat                        21\n",
              "Madhya Pradesh                 20\n",
              "Himachal Pradesh               20\n",
              "Bihar                          19\n",
              "Manipur                        17\n",
              "Mizoram                        16\n",
              "Goa                            15\n",
              "Andaman and Nicobar Islands    15\n",
              "Assam                           9\n",
              "Jharkhand                       9\n",
              "Arunachal Pradesh               7\n",
              "Tripura                         3\n",
              "Unassigned                      3\n",
              "Name: State/UnionTerritory, dtype: int64"
            ]
          },
          "metadata": {
            "tags": []
          },
          "execution_count": 204
        }
      ]
    },
    {
      "cell_type": "code",
      "metadata": {
        "colab": {
          "base_uri": "https://localhost:8080/"
        },
        "id": "xH-Tzvh_jGpf",
        "outputId": "cb9581ea-e8dc-41ac-bbd3-da7eb7d7c781"
      },
      "source": [
        "df1[\"State/UnionTerritory\"].mode()"
      ],
      "execution_count": 201,
      "outputs": [
        {
          "output_type": "execute_result",
          "data": {
            "text/plain": [
              "0    Kerala\n",
              "dtype: object"
            ]
          },
          "metadata": {
            "tags": []
          },
          "execution_count": 201
        }
      ]
    },
    {
      "cell_type": "code",
      "metadata": {
        "id": "6sQmMJBWxEjq"
      },
      "source": [
        "df1['State/UnionTerritory'].replace(np.nan,'Kerala',inplace=True)"
      ],
      "execution_count": 202,
      "outputs": []
    },
    {
      "cell_type": "code",
      "metadata": {
        "colab": {
          "base_uri": "https://localhost:8080/"
        },
        "id": "ec-VtPhYkH1B",
        "outputId": "cda7eb20-793b-4c7d-a06a-5f88c1e53359"
      },
      "source": [
        "df1['State/UnionTerritory'].unique()"
      ],
      "execution_count": 203,
      "outputs": [
        {
          "output_type": "execute_result",
          "data": {
            "text/plain": [
              "array(['Kerala', 'Telengana', 'Delhi', 'Rajasthan', 'Uttar Pradesh',\n",
              "       'Haryana', 'Ladakh', 'Tamil Nadu', 'Karnataka', 'Maharashtra',\n",
              "       'Punjab', 'Jammu and Kashmir', 'Andhra Pradesh', 'Uttarakhand',\n",
              "       'Odisha', 'Puducherry', 'West Bengal', 'Chhattisgarh',\n",
              "       'Chandigarh', 'Gujarat', 'Himachal Pradesh', 'Madhya Pradesh',\n",
              "       'Bihar', 'Manipur', 'Mizoram', 'Andaman and Nicobar Islands',\n",
              "       'Goa', 'Unassigned', 'Assam', 'Jharkhand', 'Arunachal Pradesh',\n",
              "       'Tripura'], dtype=object)"
            ]
          },
          "metadata": {
            "tags": []
          },
          "execution_count": 203
        }
      ]
    },
    {
      "cell_type": "code",
      "metadata": {
        "id": "olo4HPjXlX3R"
      },
      "source": [
        "from sklearn.preprocessing import LabelEncoder"
      ],
      "execution_count": 199,
      "outputs": []
    },
    {
      "cell_type": "code",
      "metadata": {
        "id": "Oxt_bpERh9PV"
      },
      "source": [
        "le = LabelEncoder()\r\n",
        "le.fit(df1['State/UnionTerritory'])\r\n",
        "df1['State/UnionTerritory']=le.transform(df1['State/UnionTerritory'])"
      ],
      "execution_count": 205,
      "outputs": []
    },
    {
      "cell_type": "code",
      "metadata": {
        "colab": {
          "base_uri": "https://localhost:8080/",
          "height": 204
        },
        "id": "p7YKRA7pybH0",
        "outputId": "85ea7774-3fd7-4c76-99fe-09b2cf2e3356"
      },
      "source": [
        "df1.head()"
      ],
      "execution_count": 207,
      "outputs": [
        {
          "output_type": "execute_result",
          "data": {
            "text/html": [
              "<div>\n",
              "<style scoped>\n",
              "    .dataframe tbody tr th:only-of-type {\n",
              "        vertical-align: middle;\n",
              "    }\n",
              "\n",
              "    .dataframe tbody tr th {\n",
              "        vertical-align: top;\n",
              "    }\n",
              "\n",
              "    .dataframe thead th {\n",
              "        text-align: right;\n",
              "    }\n",
              "</style>\n",
              "<table border=\"1\" class=\"dataframe\">\n",
              "  <thead>\n",
              "    <tr style=\"text-align: right;\">\n",
              "      <th></th>\n",
              "      <th>State/UnionTerritory</th>\n",
              "      <th>ConfirmedIndianNational</th>\n",
              "      <th>ConfirmedForeignNational</th>\n",
              "      <th>Cured</th>\n",
              "      <th>Deaths</th>\n",
              "      <th>Confirmed</th>\n",
              "    </tr>\n",
              "  </thead>\n",
              "  <tbody>\n",
              "    <tr>\n",
              "      <th>0</th>\n",
              "      <td>15</td>\n",
              "      <td>1.0</td>\n",
              "      <td>0.0</td>\n",
              "      <td>0.0</td>\n",
              "      <td>0.0</td>\n",
              "      <td>1.0</td>\n",
              "    </tr>\n",
              "    <tr>\n",
              "      <th>1</th>\n",
              "      <td>15</td>\n",
              "      <td>1.0</td>\n",
              "      <td>0.0</td>\n",
              "      <td>0.0</td>\n",
              "      <td>0.0</td>\n",
              "      <td>1.0</td>\n",
              "    </tr>\n",
              "    <tr>\n",
              "      <th>2</th>\n",
              "      <td>15</td>\n",
              "      <td>2.0</td>\n",
              "      <td>0.0</td>\n",
              "      <td>0.0</td>\n",
              "      <td>0.0</td>\n",
              "      <td>2.0</td>\n",
              "    </tr>\n",
              "    <tr>\n",
              "      <th>3</th>\n",
              "      <td>15</td>\n",
              "      <td>3.0</td>\n",
              "      <td>0.0</td>\n",
              "      <td>0.0</td>\n",
              "      <td>0.0</td>\n",
              "      <td>3.0</td>\n",
              "    </tr>\n",
              "    <tr>\n",
              "      <th>4</th>\n",
              "      <td>15</td>\n",
              "      <td>3.0</td>\n",
              "      <td>0.0</td>\n",
              "      <td>0.0</td>\n",
              "      <td>0.0</td>\n",
              "      <td>3.0</td>\n",
              "    </tr>\n",
              "  </tbody>\n",
              "</table>\n",
              "</div>"
            ],
            "text/plain": [
              "   State/UnionTerritory  ConfirmedIndianNational  ...  Deaths  Confirmed\n",
              "0                    15                      1.0  ...     0.0        1.0\n",
              "1                    15                      1.0  ...     0.0        1.0\n",
              "2                    15                      2.0  ...     0.0        2.0\n",
              "3                    15                      3.0  ...     0.0        3.0\n",
              "4                    15                      3.0  ...     0.0        3.0\n",
              "\n",
              "[5 rows x 6 columns]"
            ]
          },
          "metadata": {
            "tags": []
          },
          "execution_count": 207
        }
      ]
    },
    {
      "cell_type": "code",
      "metadata": {
        "id": "nUuSCrNLfmyX"
      },
      "source": [
        "sns.boxplot(data=df1, x=\"Confirmed\")\r\n",
        "plt.show()"
      ],
      "execution_count": null,
      "outputs": []
    },
    {
      "cell_type": "code",
      "metadata": {
        "id": "t0BqwItngkzn",
        "colab": {
          "base_uri": "https://localhost:8080/",
          "height": 279
        },
        "outputId": "8d191230-722c-46d1-d581-3a2b903971d5"
      },
      "source": [
        "sns.boxplot(data=df1, x=\"Confirmed\",whis=4.5)\r\n",
        "plt.show()"
      ],
      "execution_count": 209,
      "outputs": [
        {
          "output_type": "display_data",
          "data": {
            "image/png": "[encoded data removed]",
            "text/plain": [
              "<Figure size 432x288 with 1 Axes>"
            ]
          },
          "metadata": {
            "tags": [],
            "needs_background": "light"
          }
        }
      ]
    },
    {
      "cell_type": "code",
      "metadata": {
        "id": "oDJjddsEy7uX"
      },
      "source": [
        "from scipy.stats import skew"
      ],
      "execution_count": 212,
      "outputs": []
    },
    {
      "cell_type": "code",
      "metadata": {
        "colab": {
          "base_uri": "https://localhost:8080/",
          "height": 1000
        },
        "id": "rTK9e-jdzCkE",
        "outputId": "d3f37820-269b-426f-fc5c-059078528396"
      },
      "source": [
        "for col in df1:\r\n",
        "  try:\r\n",
        "    print(col, \"=\", skew(df1[col]))\r\n",
        "    sns.distplot(df1[col])\r\n",
        "    plt.show()\r\n",
        "  except:\r\n",
        "    pass\r\n",
        "  finally:\r\n",
        "    print(\"************************************************\")"
      ],
      "execution_count": 213,
      "outputs": [
        {
          "output_type": "stream",
          "text": [
            "State/UnionTerritory = -0.047417431735837894\n"
          ],
          "name": "stdout"
        },
        {
          "output_type": "display_data",
          "data": {
            "image/png": "[encoded data removed]",
            "text/plain": [
              "<Figure size 432x288 with 1 Axes>"
            ]
          },
          "metadata": {
            "tags": [],
            "needs_background": "light"
          }
        },
        {
          "output_type": "stream",
          "text": [
            "************************************************\n",
            "ConfirmedIndianNational = 5.460300361294881\n"
          ],
          "name": "stdout"
        },
        {
          "output_type": "display_data",
          "data": {
            "image/png": "[encoded data removed]",
            "text/plain": [
              "<Figure size 432x288 with 1 Axes>"
            ]
          },
          "metadata": {
            "tags": [],
            "needs_background": "light"
          }
        },
        {
          "output_type": "stream",
          "text": [
            "************************************************\n",
            "ConfirmedForeignNational = 3.6929012020469187\n"
          ],
          "name": "stdout"
        },
        {
          "output_type": "display_data",
          "data": {
            "image/png": "[encoded data removed]",
            "text/plain": [
              "<Figure size 432x288 with 1 Axes>"
            ]
          },
          "metadata": {
            "tags": [],
            "needs_background": "light"
          }
        },
        {
          "output_type": "stream",
          "text": [
            "************************************************\n",
            "Cured = nan\n"
          ],
          "name": "stdout"
        },
        {
          "output_type": "display_data",
          "data": {
            "image/png": "[encoded data removed]",
            "text/plain": [
              "<Figure size 432x288 with 1 Axes>"
            ]
          },
          "metadata": {
            "tags": [],
            "needs_background": "light"
          }
        },
        {
          "output_type": "stream",
          "text": [
            "************************************************\n",
            "Deaths = nan\n"
          ],
          "name": "stdout"
        },
        {
          "output_type": "display_data",
          "data": {
            "image/png": "[encoded data removed]",
            "text/plain": [
              "<Figure size 432x288 with 1 Axes>"
            ]
          },
          "metadata": {
            "tags": [],
            "needs_background": "light"
          }
        },
        {
          "output_type": "stream",
          "text": [
            "************************************************\n",
            "Confirmed = nan\n"
          ],
          "name": "stdout"
        },
        {
          "output_type": "display_data",
          "data": {
            "image/png": "[encoded data removed]",
            "text/plain": [
              "<Figure size 432x288 with 1 Axes>"
            ]
          },
          "metadata": {
            "tags": [],
            "needs_background": "light"
          }
        },
        {
          "output_type": "stream",
          "text": [
            "************************************************\n"
          ],
          "name": "stdout"
        }
      ]
    },
    {
      "cell_type": "code",
      "metadata": {
        "colab": {
          "base_uri": "https://localhost:8080/",
          "height": 607
        },
        "id": "0llRUgVt0dbr",
        "outputId": "c10dd962-7fa5-42ef-b501-8d47fa7ecb03"
      },
      "source": [
        "plt.figure(figsize=(7,8))\r\n",
        "sns.heatmap(df1.corr(), annot=True)\r\n",
        "plt.show()"
      ],
      "execution_count": 215,
      "outputs": [
        {
          "output_type": "display_data",
          "data": {
            "image/png": "[encoded data removed]",
            "text/plain": [
              "<Figure size 504x576 with 2 Axes>"
            ]
          },
          "metadata": {
            "tags": [],
            "needs_background": "light"
          }
        }
      ]
    },
    {
      "cell_type": "code",
      "metadata": {
        "colab": {
          "base_uri": "https://localhost:8080/"
        },
        "id": "DhNDubAT2iKX",
        "outputId": "5eed70af-673e-4352-b8fb-d8655e216848"
      },
      "source": [
        "df2.shape"
      ],
      "execution_count": 216,
      "outputs": [
        {
          "output_type": "execute_result",
          "data": {
            "text/plain": [
              "(38, 14)"
            ]
          },
          "metadata": {
            "tags": []
          },
          "execution_count": 216
        }
      ]
    },
    {
      "cell_type": "code",
      "metadata": {
        "colab": {
          "base_uri": "https://localhost:8080/"
        },
        "id": "TkJkX-3p2nQB",
        "outputId": "c00ea770-943f-47c8-945c-ebe229564ceb"
      },
      "source": [
        "df2.info()"
      ],
      "execution_count": 219,
      "outputs": [
        {
          "output_type": "stream",
          "text": [
            "<class 'pandas.core.frame.DataFrame'>\n",
            "RangeIndex: 38 entries, 0 to 37\n",
            "Data columns (total 14 columns):\n",
            " #   Column                            Non-Null Count  Dtype  \n",
            "---  ------                            --------------  -----  \n",
            " 0   Sno                               37 non-null     float64\n",
            " 1   State/UT                          37 non-null     object \n",
            " 2   NumPrimaryHealthCenters_HMIS      37 non-null     object \n",
            " 3   NumCommunityHealthCenters_HMIS    37 non-null     object \n",
            " 4   NumSubDistrictHospitals_HMIS      30 non-null     object \n",
            " 5   NumDistrictHospitals_HMIS         37 non-null     object \n",
            " 6   TotalPublicHealthFacilities_HMIS  37 non-null     object \n",
            " 7   NumPublicBeds_HMIS                37 non-null     object \n",
            " 8   NumRuralHospitals_NHP18           37 non-null     float64\n",
            " 9   NumRuralBeds_NHP18                37 non-null     float64\n",
            " 10  NumUrbanHospitals_NHP18           37 non-null     float64\n",
            " 11  NumUrbanBeds_NHP18                37 non-null     float64\n",
            " 12  Unnamed: 12                       0 non-null      float64\n",
            " 13  Unnamed: 13                       0 non-null      float64\n",
            "dtypes: float64(7), object(7)\n",
            "memory usage: 4.3+ KB\n"
          ],
          "name": "stdout"
        }
      ]
    },
    {
      "cell_type": "code",
      "metadata": {
        "colab": {
          "base_uri": "https://localhost:8080/",
          "height": 309
        },
        "id": "LgpUqAKY4Eaw",
        "outputId": "6cb10d90-2de7-41d7-b94f-a3bb95c53b7f"
      },
      "source": [
        "df2.head()"
      ],
      "execution_count": 223,
      "outputs": [
        {
          "output_type": "execute_result",
          "data": {
            "text/html": [
              "<div>\n",
              "<style scoped>\n",
              "    .dataframe tbody tr th:only-of-type {\n",
              "        vertical-align: middle;\n",
              "    }\n",
              "\n",
              "    .dataframe tbody tr th {\n",
              "        vertical-align: top;\n",
              "    }\n",
              "\n",
              "    .dataframe thead th {\n",
              "        text-align: right;\n",
              "    }\n",
              "</style>\n",
              "<table border=\"1\" class=\"dataframe\">\n",
              "  <thead>\n",
              "    <tr style=\"text-align: right;\">\n",
              "      <th></th>\n",
              "      <th>Sno</th>\n",
              "      <th>State/UT</th>\n",
              "      <th>NumPrimaryHealthCenters_HMIS</th>\n",
              "      <th>NumCommunityHealthCenters_HMIS</th>\n",
              "      <th>NumSubDistrictHospitals_HMIS</th>\n",
              "      <th>NumDistrictHospitals_HMIS</th>\n",
              "      <th>TotalPublicHealthFacilities_HMIS</th>\n",
              "      <th>NumPublicBeds_HMIS</th>\n",
              "      <th>NumRuralHospitals_NHP18</th>\n",
              "      <th>NumRuralBeds_NHP18</th>\n",
              "      <th>NumUrbanHospitals_NHP18</th>\n",
              "      <th>NumUrbanBeds_NHP18</th>\n",
              "      <th>Unnamed: 12</th>\n",
              "      <th>Unnamed: 13</th>\n",
              "    </tr>\n",
              "  </thead>\n",
              "  <tbody>\n",
              "    <tr>\n",
              "      <th>0</th>\n",
              "      <td>1.0</td>\n",
              "      <td>Andaman &amp; Nicobar Islands</td>\n",
              "      <td>27</td>\n",
              "      <td>4</td>\n",
              "      <td>NaN</td>\n",
              "      <td>3</td>\n",
              "      <td>34</td>\n",
              "      <td>1246</td>\n",
              "      <td>27.0</td>\n",
              "      <td>575.0</td>\n",
              "      <td>3.0</td>\n",
              "      <td>500.0</td>\n",
              "      <td>NaN</td>\n",
              "      <td>NaN</td>\n",
              "    </tr>\n",
              "    <tr>\n",
              "      <th>1</th>\n",
              "      <td>2.0</td>\n",
              "      <td>Andhra Pradesh</td>\n",
              "      <td>1417</td>\n",
              "      <td>198</td>\n",
              "      <td>31</td>\n",
              "      <td>20</td>\n",
              "      <td>1666</td>\n",
              "      <td>60799</td>\n",
              "      <td>193.0</td>\n",
              "      <td>6480.0</td>\n",
              "      <td>65.0</td>\n",
              "      <td>16658.0</td>\n",
              "      <td>NaN</td>\n",
              "      <td>NaN</td>\n",
              "    </tr>\n",
              "    <tr>\n",
              "      <th>2</th>\n",
              "      <td>3.0</td>\n",
              "      <td>Arunachal Pradesh</td>\n",
              "      <td>122</td>\n",
              "      <td>62</td>\n",
              "      <td>NaN</td>\n",
              "      <td>15</td>\n",
              "      <td>199</td>\n",
              "      <td>2320</td>\n",
              "      <td>208.0</td>\n",
              "      <td>2136.0</td>\n",
              "      <td>10.0</td>\n",
              "      <td>268.0</td>\n",
              "      <td>NaN</td>\n",
              "      <td>NaN</td>\n",
              "    </tr>\n",
              "    <tr>\n",
              "      <th>3</th>\n",
              "      <td>4.0</td>\n",
              "      <td>Assam</td>\n",
              "      <td>1007</td>\n",
              "      <td>166</td>\n",
              "      <td>14</td>\n",
              "      <td>33</td>\n",
              "      <td>1220</td>\n",
              "      <td>19115</td>\n",
              "      <td>1176.0</td>\n",
              "      <td>10944.0</td>\n",
              "      <td>50.0</td>\n",
              "      <td>6198.0</td>\n",
              "      <td>NaN</td>\n",
              "      <td>NaN</td>\n",
              "    </tr>\n",
              "    <tr>\n",
              "      <th>4</th>\n",
              "      <td>5.0</td>\n",
              "      <td>Bihar</td>\n",
              "      <td>2007</td>\n",
              "      <td>63</td>\n",
              "      <td>33</td>\n",
              "      <td>43</td>\n",
              "      <td>2146</td>\n",
              "      <td>17796</td>\n",
              "      <td>930.0</td>\n",
              "      <td>6083.0</td>\n",
              "      <td>103.0</td>\n",
              "      <td>5936.0</td>\n",
              "      <td>NaN</td>\n",
              "      <td>NaN</td>\n",
              "    </tr>\n",
              "  </tbody>\n",
              "</table>\n",
              "</div>"
            ],
            "text/plain": [
              "   Sno                   State/UT  ... Unnamed: 12 Unnamed: 13\n",
              "0  1.0  Andaman & Nicobar Islands  ...         NaN         NaN\n",
              "1  2.0             Andhra Pradesh  ...         NaN         NaN\n",
              "2  3.0          Arunachal Pradesh  ...         NaN         NaN\n",
              "3  4.0                      Assam  ...         NaN         NaN\n",
              "4  5.0                      Bihar  ...         NaN         NaN\n",
              "\n",
              "[5 rows x 14 columns]"
            ]
          },
          "metadata": {
            "tags": []
          },
          "execution_count": 223
        }
      ]
    },
    {
      "cell_type": "code",
      "metadata": {
        "id": "doWJruwB4PEt"
      },
      "source": [
        "df2.drop(['Unnamed: 12','Unnamed: 13'],axis=1,inplace=True)"
      ],
      "execution_count": 226,
      "outputs": []
    },
    {
      "cell_type": "code",
      "metadata": {
        "colab": {
          "base_uri": "https://localhost:8080/"
        },
        "id": "3nLTcBWp4-As",
        "outputId": "17365794-1cf4-4805-841b-d68db446b41b"
      },
      "source": [
        "df2['NumPrimaryHealthCenters_HMIS'].unique()"
      ],
      "execution_count": 228,
      "outputs": [
        {
          "output_type": "execute_result",
          "data": {
            "text/plain": [
              "array(['27', '1417', '122', '1007', '2007', '40', '813', '9', '4', '534',\n",
              "       '31', '1770', '500', '516', '702', '343', '2547', '933', '1420',\n",
              "       '2638', '87', '138', '65', '134', '1360', '521', '2463', '25',\n",
              "       '1854', '788', '114', '3277', '275', '1374', '29,899', nan],\n",
              "      dtype=object)"
            ]
          },
          "metadata": {
            "tags": []
          },
          "execution_count": 228
        }
      ]
    },
    {
      "cell_type": "code",
      "metadata": {
        "colab": {
          "base_uri": "https://localhost:8080/"
        },
        "id": "qwl7mQZ55Qgy",
        "outputId": "cb248dfd-f49f-4b2b-cf86-a88c54b05382"
      },
      "source": [
        "df2['NumCommunityHealthCenters_HMIS'].unique()\t"
      ],
      "execution_count": 230,
      "outputs": [
        {
          "output_type": "execute_result",
          "data": {
            "text/plain": [
              "array(['4', '198', '62', '166', '63', '2', '25', '385', '131', '79', '87',\n",
              "       '179', '207', '229', '3', '324', '430', '17', '29', '10', '21',\n",
              "       '377', '146', '579', '82', '22', '671', '69', '406', '5,568', nan],\n",
              "      dtype=object)"
            ]
          },
          "metadata": {
            "tags": []
          },
          "execution_count": 230
        }
      ]
    }
  ]
}